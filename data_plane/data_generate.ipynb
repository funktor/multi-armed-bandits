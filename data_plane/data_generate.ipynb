{
 "cells": [
  {
   "cell_type": "code",
   "execution_count": null,
   "id": "25b4c957-7f29-485b-b769-e490ba889e95",
   "metadata": {},
   "outputs": [],
   "source": [
    "import re, os\n",
    "\n",
    "movie_id = None\n",
    "triplets = []\n",
    "\n",
    "files = ['combined_data_1.txt', 'combined_data_2.txt', 'combined_data_3.txt', 'combined_data_4.txt']\n",
    "\n",
    "for file in files:\n",
    "    with open(os.path.join('/Users/abhijitmondal/Downloads/Netflix', file)) as f:\n",
    "        while True:\n",
    "            line = f.readline()\n",
    "            if len(line) == 0:\n",
    "                break\n",
    "            if re.match('[0-9]+:', line):\n",
    "                movie_id = line[:-2]\n",
    "            else:\n",
    "                d = line.split(',')\n",
    "                if len(d) >= 2:\n",
    "                    user_id = d[0]\n",
    "                    rating = d[1]\n",
    "                    triplets.append((user_id, movie_id, float(rating)))"
   ]
  },
  {
   "cell_type": "code",
   "execution_count": null,
   "id": "d1d672e6-b5fa-4e8d-97d3-23fd54609e84",
   "metadata": {},
   "outputs": [],
   "source": [
    "len(triplets)"
   ]
  },
  {
   "cell_type": "code",
   "execution_count": null,
   "id": "7cde5032-0131-4661-8b9e-763760338a40",
   "metadata": {},
   "outputs": [],
   "source": [
    "import pickle\n",
    "\n",
    "with open('data.pkl', 'wb') as f:\n",
    "    pickle.dump(triplets, f, protocol=pickle.HIGHEST_PROTOCOL)"
   ]
  },
  {
   "cell_type": "code",
   "execution_count": 1,
   "id": "d52afcf7-bee9-4453-90de-c724bbd3f8fd",
   "metadata": {},
   "outputs": [],
   "source": [
    "import pickle\n",
    "\n",
    "with open('data.pkl', 'rb') as f:\n",
    "    triplets = pickle.load(f)"
   ]
  },
  {
   "cell_type": "code",
   "execution_count": 2,
   "id": "96116bb5-8a06-4ca9-b5a3-7cce7169fa76",
   "metadata": {},
   "outputs": [],
   "source": [
    "import random\n",
    "sampled_data = random.sample(triplets, 10**3)"
   ]
  },
  {
   "cell_type": "code",
   "execution_count": 3,
   "id": "b02f82e2-0ceb-43be-944e-ebdf1f587231",
   "metadata": {},
   "outputs": [],
   "source": [
    "with open('sampled_data.pkl', 'wb') as f:\n",
    "    pickle.dump(sampled_data, f, protocol=pickle.HIGHEST_PROTOCOL)"
   ]
  },
  {
   "cell_type": "code",
   "execution_count": null,
   "id": "718ca09e-8ecb-4de1-9d3b-4aa33ae6e8b7",
   "metadata": {},
   "outputs": [],
   "source": [
    "import mat_facto_no_bias.matrixfactorization as matrixfactorization\n",
    "import importlib\n",
    "importlib.reload(matrixfactorization)\n",
    "from mat_facto_no_bias.matrixfactorization import MatrixFactorization"
   ]
  },
  {
   "cell_type": "code",
   "execution_count": null,
   "id": "6ed35daf-f959-4d57-99be-5ec6cc46a169",
   "metadata": {},
   "outputs": [],
   "source": [
    "facto1 = MatrixFactorization(50)"
   ]
  },
  {
   "cell_type": "code",
   "execution_count": null,
   "id": "1d82ed1d-2dae-47bd-ac02-4b9b29f986cc",
   "metadata": {},
   "outputs": [],
   "source": [
    "facto1.train(sampled_data, alpha=0.0002, beta=0.02, epochs=100)"
   ]
  },
  {
   "cell_type": "code",
   "execution_count": null,
   "id": "7067e435-a2df-42a6-8b4b-fc183539bfda",
   "metadata": {},
   "outputs": [],
   "source": [
    "with open('mat_facto_no_bias/facto.pkl', 'wb') as f:\n",
    "    pickle.dump(facto1, f, protocol=pickle.HIGHEST_PROTOCOL)"
   ]
  },
  {
   "cell_type": "code",
   "execution_count": null,
   "id": "94452aba-fc31-4c7e-afd0-6814573ad62a",
   "metadata": {},
   "outputs": [],
   "source": [
    "with open('mat_facto_no_bias/facto.pkl', 'rb') as f:\n",
    "    facto1 = pickle.load(f)"
   ]
  },
  {
   "cell_type": "code",
   "execution_count": null,
   "id": "c7133530-f241-4f89-bb8b-a72f43931bd1",
   "metadata": {},
   "outputs": [],
   "source": [
    "facto1.user_ids[:2]"
   ]
  },
  {
   "cell_type": "code",
   "execution_count": null,
   "id": "0e424c34-8293-4c68-84bc-8a86223ae9fb",
   "metadata": {},
   "outputs": [],
   "source": [
    "facto1.get_recommendations('100093', 10)"
   ]
  },
  {
   "cell_type": "code",
   "execution_count": null,
   "id": "624b950b-39fc-4167-adda-e3bff5bbe2c3",
   "metadata": {},
   "outputs": [],
   "source": [
    "import mat_facto_biases.training.matrixfactorization as matrixfactorization\n",
    "import importlib\n",
    "importlib.reload(matrixfactorization)\n",
    "from mat_facto_no_bias.training.matrixfactorization import MatrixFactorization"
   ]
  },
  {
   "cell_type": "code",
   "execution_count": null,
   "id": "d90163e1-d464-41a7-8954-47409ea9b382",
   "metadata": {},
   "outputs": [],
   "source": [
    "facto2 = MatrixFactorization(50)"
   ]
  },
  {
   "cell_type": "code",
   "execution_count": null,
   "id": "86621a95-2db1-4b1b-a9ff-c289ea23f83a",
   "metadata": {},
   "outputs": [],
   "source": [
    "facto2.train(sampled_data, alpha=0.0002, beta=0.02, epochs=1000)"
   ]
  },
  {
   "cell_type": "code",
   "execution_count": null,
   "id": "b140e505-8421-4003-b24b-f4deb8349501",
   "metadata": {},
   "outputs": [],
   "source": [
    "user_ids = sorted(set([x for x, _, _ in sampled_data]))\n",
    "user_ids_inv = {user_ids[i]:i for i in range(len(user_ids))}\n",
    "\n",
    "movie_ids = sorted(set([y for _, y, _ in sampled_data]))\n",
    "movie_ids_inv = {movie_ids[i]:i for i in range(len(movie_ids))}"
   ]
  },
  {
   "cell_type": "code",
   "execution_count": null,
   "id": "81782f7b-30d9-4928-90e4-b4f53a22f7ad",
   "metadata": {},
   "outputs": [],
   "source": [
    "len(user_ids)"
   ]
  },
  {
   "cell_type": "code",
   "execution_count": null,
   "id": "642fedb3-7c62-4fd9-88b8-09b64f1fb99f",
   "metadata": {},
   "outputs": [],
   "source": [
    "import numpy as np\n",
    "k = 50\n",
    "p = np.random.rand(len(user_ids), k)\n",
    "q = np.random.rand(len(movie_ids), k)\n",
    "bu = np.random.rand(len(user_ids))\n",
    "bm = np.random.rand(len(movie_ids))"
   ]
  },
  {
   "cell_type": "code",
   "execution_count": null,
   "id": "2a047134-50cd-46b0-a52b-6180cd02206d",
   "metadata": {},
   "outputs": [],
   "source": [
    "def loss(sampled_data, mu, p, q, bu, bm, beta=0.02):\n",
    "    e = 0\n",
    "    for u, m, r in sampled_data:\n",
    "        i = user_ids_inv[u]\n",
    "        j = movie_ids_inv[m]\n",
    "        reg = beta/2.0*(np.sum(p[i,:]**2)+np.sum(q[:,j]**2+bu[i]**2+bm[j]**2))\n",
    "        e += (r-mu-bu[i]-bm[j]-np.dot(p[i,:],q[:,j]))**2+reg\n",
    "        \n",
    "    return e\n",
    "            \n",
    "def train(sampled_data, p, q, bu, bm, alpha=0.0002, beta=0.02):\n",
    "    mu = np.mean([z for x, y, z in sampled_data])\n",
    "    q = q.T\n",
    "    \n",
    "    for x in range(1000):\n",
    "        if len(sampled_data) > 10000:\n",
    "            g = random.sample(sampled_data, 10000)\n",
    "        else:\n",
    "            g = sampled_data\n",
    "        \n",
    "        for u, m, r in g:\n",
    "            i = user_ids_inv[u]\n",
    "            j = movie_ids_inv[m]\n",
    "            e = r-mu-bu[i]-bm[j]-np.dot(p[i,:],q[:,j])\n",
    "\n",
    "            for k in range(50):\n",
    "                p[i][k] = p[i][k]+alpha*(2*e*q[k][j]-beta*p[i][k])\n",
    "                q[k][j] = q[k][j]+alpha*(2*e*p[i][k]-beta*q[k][j])\n",
    "                \n",
    "            bu[i] = bu[i]+alpha*(2*e-beta*bu[i])\n",
    "            bm[j] = bm[j]+alpha*(2*e-beta*bm[j])\n",
    "        \n",
    "        if x % 10 == 0:\n",
    "            l = loss(sampled_data, mu, p, q, bu, bm, beta)\n",
    "            print(x, l)\n",
    "        \n",
    "    return mu, p, q.T, bu, bm\n",
    "\n",
    "def get_recommendations(user, mu, p, q, bu, bm, num_preds=10):\n",
    "    i = user_ids_inv[user]\n",
    "    \n",
    "    heap = []\n",
    "    \n",
    "    for m in movie_ids:\n",
    "        j = movie_ids_inv[m]\n",
    "        rpred = mu+bu[i]+bm[j]+np.dot(p[i,:],q[:,j])\n",
    "        \n",
    "        if len(heap) < num_preds:\n",
    "            heapq.heappush(heap, (rpred, j))\n",
    "        else:\n",
    "            if rpred > heap[0][0]:\n",
    "                heapq.heappop(heap)\n",
    "                heapq.heappush(heap, (rpred, j))\n",
    "    \n",
    "    print(heap)\n",
    "    return [movie_ids[y] for x, y in heap]"
   ]
  },
  {
   "cell_type": "code",
   "execution_count": null,
   "id": "002f3c4f-b132-4920-b728-8fd1560bd108",
   "metadata": {},
   "outputs": [],
   "source": [
    "mu, p, q, bu, bm = train(sampled_data, p, q, bu, bm)"
   ]
  },
  {
   "cell_type": "code",
   "execution_count": null,
   "id": "3532795e-3bf6-4104-a8b8-e577f1eb0649",
   "metadata": {},
   "outputs": [],
   "source": [
    "get_recommendations('1000038', 3.6, p, q.T, bu, bm, 10)"
   ]
  },
  {
   "cell_type": "code",
   "execution_count": null,
   "id": "9e188543-b0bb-4e56-90d3-36b8a256b58a",
   "metadata": {},
   "outputs": [],
   "source": []
  }
 ],
 "metadata": {
  "kernelspec": {
   "display_name": "Python 3 (ipykernel)",
   "language": "python",
   "name": "python3"
  },
  "language_info": {
   "codemirror_mode": {
    "name": "ipython",
    "version": 3
   },
   "file_extension": ".py",
   "mimetype": "text/x-python",
   "name": "python",
   "nbconvert_exporter": "python",
   "pygments_lexer": "ipython3",
   "version": "3.9.6"
  }
 },
 "nbformat": 4,
 "nbformat_minor": 5
}
