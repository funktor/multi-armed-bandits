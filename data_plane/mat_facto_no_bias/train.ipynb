{
 "cells": [
  {
   "cell_type": "code",
   "execution_count": 1,
   "id": "0320ea7c-ad26-4088-88a6-7074b9edf887",
   "metadata": {},
   "outputs": [],
   "source": [
    "import pickle\n",
    "\n",
    "with open('../sampled_data.pkl', 'rb') as f:\n",
    "    sampled_data = pickle.load(f)"
   ]
  },
  {
   "cell_type": "code",
   "execution_count": 3,
   "id": "31d14dc2-0a69-466a-a846-409cd4cb9670",
   "metadata": {},
   "outputs": [
    {
     "data": {
      "text/plain": [
       "[('1085491', '14313', 5.0), ('2286129', '8904', 5.0)]"
      ]
     },
     "execution_count": 3,
     "metadata": {},
     "output_type": "execute_result"
    }
   ],
   "source": [
    "sampled_data[:2]"
   ]
  },
  {
   "cell_type": "code",
   "execution_count": 10,
   "id": "12f8a96a-389a-4d28-97bf-a5459b7aa94e",
   "metadata": {},
   "outputs": [],
   "source": [
    "import matrixfactorization as matrixfacto\n",
    "import importlib\n",
    "importlib.reload(matrixfacto)\n",
    "from matrixfactorization import MatrixFactorization"
   ]
  },
  {
   "cell_type": "code",
   "execution_count": 11,
   "id": "eb64abb9-c313-4c3b-a7e7-a75e924bd5da",
   "metadata": {},
   "outputs": [],
   "source": [
    "facto = MatrixFactorization(50)"
   ]
  },
  {
   "cell_type": "code",
   "execution_count": 12,
   "id": "8db8a555-c046-4fb3-ab3d-ab14e1451aaa",
   "metadata": {},
   "outputs": [
    {
     "name": "stdout",
     "output_type": "stream",
     "text": [
      "0 81883.50007795621\n",
      "10 59960.0407001675\n",
      "20 44945.18631123509\n",
      "30 34289.41233407627\n",
      "40 26525.769018290823\n",
      "50 20753.403621834706\n",
      "60 16391.72839232537\n",
      "70 13052.337060407612\n",
      "80 10467.55100760388\n",
      "90 8448.364643044504\n"
     ]
    }
   ],
   "source": [
    "facto.train(sampled_data, alpha=0.0002, beta=0.02, epochs=100)"
   ]
  },
  {
   "cell_type": "code",
   "execution_count": 13,
   "id": "1a3d1c64-47c1-4849-a942-3325bf8dcfce",
   "metadata": {},
   "outputs": [],
   "source": [
    "with open('facto.pkl', 'wb') as f:\n",
    "    pickle.dump(facto, f, protocol=pickle.HIGHEST_PROTOCOL)"
   ]
  },
  {
   "cell_type": "code",
   "execution_count": 14,
   "id": "3e08fb2a-0c49-485b-a341-3ace0be70e89",
   "metadata": {},
   "outputs": [
    {
     "data": {
      "text/plain": [
       "['1004748', '1008413']"
      ]
     },
     "execution_count": 14,
     "metadata": {},
     "output_type": "execute_result"
    }
   ],
   "source": [
    "facto.user_ids[:2]"
   ]
  },
  {
   "cell_type": "code",
   "execution_count": null,
   "id": "17867674-6346-49d8-bdf2-7b88aea95e14",
   "metadata": {},
   "outputs": [],
   "source": []
  }
 ],
 "metadata": {
  "kernelspec": {
   "display_name": "Python 3 (ipykernel)",
   "language": "python",
   "name": "python3"
  },
  "language_info": {
   "codemirror_mode": {
    "name": "ipython",
    "version": 3
   },
   "file_extension": ".py",
   "mimetype": "text/x-python",
   "name": "python",
   "nbconvert_exporter": "python",
   "pygments_lexer": "ipython3",
   "version": "3.9.7"
  }
 },
 "nbformat": 4,
 "nbformat_minor": 5
}
