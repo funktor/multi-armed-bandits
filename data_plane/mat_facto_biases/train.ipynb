{
 "cells": [
  {
   "cell_type": "code",
   "execution_count": 8,
   "id": "fb5be28d-df20-48de-b77d-d905347b2029",
   "metadata": {},
   "outputs": [],
   "source": [
    "import pickle\n",
    "\n",
    "with open('../sampled_data.pkl', 'rb') as f:\n",
    "    sampled_data = pickle.load(f)"
   ]
  },
  {
   "cell_type": "code",
   "execution_count": 9,
   "id": "4d086bc4-86b5-43f3-b3f8-0e0c7560da18",
   "metadata": {},
   "outputs": [],
   "source": [
    "import matrixfactorization as matrixfacto\n",
    "import importlib\n",
    "importlib.reload(matrixfacto)\n",
    "from matrixfactorization import MatrixFactorization"
   ]
  },
  {
   "cell_type": "code",
   "execution_count": 10,
   "id": "0dac6889-22dc-43a9-a7dc-427ad25ebd7d",
   "metadata": {},
   "outputs": [],
   "source": [
    "facto = MatrixFactorization(50)"
   ]
  },
  {
   "cell_type": "code",
   "execution_count": 11,
   "id": "7953b392-3587-4b0a-a1ff-40fa3bddb70b",
   "metadata": {},
   "outputs": [
    {
     "name": "stdout",
     "output_type": "stream",
     "text": [
      "0 179595.02972108417\n",
      "10 129762.05004956457\n",
      "20 96635.64118511282\n",
      "30 73513.40716164527\n",
      "40 56816.55048286184\n",
      "50 44454.03467842965\n",
      "60 35123.686401502346\n",
      "70 27974.919113930435\n",
      "80 22431.058721709793\n",
      "90 18089.2953305537\n"
     ]
    }
   ],
   "source": [
    "facto.train(sampled_data, alpha=0.0002, beta=0.02, epochs=100)"
   ]
  },
  {
   "cell_type": "code",
   "execution_count": 14,
   "id": "79273128-e529-45b0-8299-850cddd98df9",
   "metadata": {},
   "outputs": [],
   "source": [
    "with open('facto.pkl', 'wb') as f:\n",
    "    pickle.dump(facto, f, protocol=pickle.HIGHEST_PROTOCOL)"
   ]
  },
  {
   "cell_type": "code",
   "execution_count": 15,
   "id": "cca9c0c7-0bf8-493c-bca3-49c83cfac8cf",
   "metadata": {},
   "outputs": [
    {
     "data": {
      "text/plain": [
       "['1004748', '1008413']"
      ]
     },
     "execution_count": 15,
     "metadata": {},
     "output_type": "execute_result"
    }
   ],
   "source": [
    "facto.user_ids[:2]"
   ]
  },
  {
   "cell_type": "code",
   "execution_count": 16,
   "id": "13f3d888-77b3-4603-bdc4-6a8386ce2f4b",
   "metadata": {},
   "outputs": [
    {
     "data": {
      "text/plain": [
       "['5363',\n",
       " '3350',\n",
       " '14533',\n",
       " '16593',\n",
       " '4640',\n",
       " '15424',\n",
       " '1428',\n",
       " '4472',\n",
       " '10342',\n",
       " '7635']"
      ]
     },
     "execution_count": 16,
     "metadata": {},
     "output_type": "execute_result"
    }
   ],
   "source": [
    "facto.get_recommendations('1004748')"
   ]
  },
  {
   "cell_type": "code",
   "execution_count": null,
   "id": "1b2a1aaa-b7d9-4da8-9620-3fcf7d20a067",
   "metadata": {},
   "outputs": [],
   "source": []
  }
 ],
 "metadata": {
  "kernelspec": {
   "display_name": "Python 3 (ipykernel)",
   "language": "python",
   "name": "python3"
  },
  "language_info": {
   "codemirror_mode": {
    "name": "ipython",
    "version": 3
   },
   "file_extension": ".py",
   "mimetype": "text/x-python",
   "name": "python",
   "nbconvert_exporter": "python",
   "pygments_lexer": "ipython3",
   "version": "3.9.7"
  }
 },
 "nbformat": 4,
 "nbformat_minor": 5
}
